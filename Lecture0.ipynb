{
 "cells": [
  {
   "cell_type": "markdown",
   "metadata": {},
   "source": [
    "<div style='text-align:center'><h1>Lecture 0 : How to use Jupyter</h1></div>"
   ]
  },
  {
   "cell_type": "markdown",
   "metadata": {},
   "source": [
    "## Command list"
   ]
  },
  {
   "cell_type": "markdown",
   "metadata": {},
   "source": [
    "* #, ##, ### : Title\n",
    "* Esc : Command Mode\n",
    "* Esc + m : Markdown (Text Mode)\n",
    "* $*$ : List\n",
    "* Can use Latex\n",
    "* Can use HTML"
   ]
  }
 ],
 "metadata": {
  "kernelspec": {
   "display_name": "Python 3",
   "language": "python",
   "name": "python3"
  },
  "language_info": {
   "codemirror_mode": {
    "name": "ipython",
    "version": 3
   },
   "file_extension": ".py",
   "mimetype": "text/x-python",
   "name": "python",
   "nbconvert_exporter": "python",
   "pygments_lexer": "ipython3",
   "version": "3.6.0"
  }
 },
 "nbformat": 4,
 "nbformat_minor": 2
}
