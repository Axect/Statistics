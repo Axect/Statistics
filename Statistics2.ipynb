{
 "cells": [
  {
   "cell_type": "markdown",
   "metadata": {},
   "source": [
    "# Statistics 2\n",
    "********"
   ]
  },
  {
   "cell_type": "markdown",
   "metadata": {},
   "source": [
    "## Mean "
   ]
  },
  {
   "cell_type": "markdown",
   "metadata": {},
   "source": [
    "$$ E(X) = \\sum_{i=1}^n x_i p_i $$"
   ]
  },
  {
   "cell_type": "markdown",
   "metadata": {},
   "source": [
    "* 주사위 던지기"
   ]
  },
  {
   "cell_type": "code",
   "execution_count": 1,
   "metadata": {
    "collapsed": true
   },
   "outputs": [],
   "source": [
    "X = [1,2,3,4,5,6]\n",
    "P = [1/6, 1/6, 1/6, 1/6, 1/6, 1/6]"
   ]
  },
  {
   "cell_type": "code",
   "execution_count": 2,
   "metadata": {
    "collapsed": false
   },
   "outputs": [
    {
     "name": "stdout",
     "output_type": "stream",
     "text": [
      "3.5\n"
     ]
    }
   ],
   "source": [
    "s = 0\n",
    "for x, p in zip(X,P):\n",
    "    s += x * p # s에다가 x*p를 계속 더한다.\n",
    "print(s)"
   ]
  },
  {
   "cell_type": "markdown",
   "metadata": {},
   "source": [
    "### Q. 윷놀이를 만들어 보시오."
   ]
  },
  {
   "cell_type": "code",
   "execution_count": 5,
   "metadata": {
    "collapsed": true
   },
   "outputs": [],
   "source": [
    "X = [-1, 1, 2, 3, 4, 5] # 빽도, 도, 개, 걸, 윷, 모\n",
    "P = [1/16, 3/16, 6/16, 4/16, 1/16, 1/16]"
   ]
  },
  {
   "cell_type": "code",
   "execution_count": 6,
   "metadata": {
    "collapsed": false
   },
   "outputs": [
    {
     "name": "stdout",
     "output_type": "stream",
     "text": [
      "2.1875\n"
     ]
    }
   ],
   "source": [
    "s = 0\n",
    "for x, p in zip(X,P):\n",
    "    s += x * p # s에다가 x*p를 계속 더한다.\n",
    "print(s)"
   ]
  },
  {
   "cell_type": "markdown",
   "metadata": {},
   "source": [
    "* 결론 : 평균은 개"
   ]
  },
  {
   "cell_type": "code",
   "execution_count": 7,
   "metadata": {
    "collapsed": true
   },
   "outputs": [],
   "source": [
    "def Mean(X, P):\n",
    "    s = 0\n",
    "    for x, p in zip(X, P):\n",
    "        s += x * p\n",
    "    return s"
   ]
  },
  {
   "cell_type": "code",
   "execution_count": 8,
   "metadata": {
    "collapsed": false
   },
   "outputs": [
    {
     "data": {
      "text/plain": [
       "2.1875"
      ]
     },
     "execution_count": 8,
     "metadata": {},
     "output_type": "execute_result"
    }
   ],
   "source": [
    "Mean(X, P)"
   ]
  },
  {
   "cell_type": "markdown",
   "metadata": {},
   "source": [
    "## Variation "
   ]
  },
  {
   "cell_type": "markdown",
   "metadata": {},
   "source": [
    "$$ V(X) = E((X - m)^2) = E(X^2)-(E(X))^2$$"
   ]
  },
  {
   "cell_type": "code",
   "execution_count": 9,
   "metadata": {
    "collapsed": true
   },
   "outputs": [],
   "source": [
    "def Var(X, P):\n",
    "    m = Mean(X, P) # m은 정수, X는 list 즉, 두 개를 같이 계산할 수 없다.\n",
    "    Y = []\n",
    "    for x in X:\n",
    "        Y.append((x - m) ** 2)\n",
    "    return Mean(Y, P)"
   ]
  },
  {
   "cell_type": "markdown",
   "metadata": {},
   "source": [
    "* 윷놀이의 분산"
   ]
  },
  {
   "cell_type": "code",
   "execution_count": 10,
   "metadata": {
    "collapsed": true
   },
   "outputs": [],
   "source": [
    "X = [-1, 1, 2, 3, 4, 5] # 빽도, 도, 개, 걸, 윷, 모\n",
    "P = [1/16, 3/16, 6/16, 4/16, 1/16, 1/16]"
   ]
  },
  {
   "cell_type": "code",
   "execution_count": 11,
   "metadata": {
    "collapsed": false
   },
   "outputs": [
    {
     "data": {
      "text/plain": [
       "1.77734375"
      ]
     },
     "execution_count": 11,
     "metadata": {},
     "output_type": "execute_result"
    }
   ],
   "source": [
    "Var(X, P)"
   ]
  },
  {
   "cell_type": "markdown",
   "metadata": {},
   "source": [
    "## Standard Deviation (Std)"
   ]
  },
  {
   "cell_type": "code",
   "execution_count": 12,
   "metadata": {
    "collapsed": true
   },
   "outputs": [],
   "source": [
    "import math"
   ]
  },
  {
   "cell_type": "code",
   "execution_count": 13,
   "metadata": {
    "collapsed": true
   },
   "outputs": [],
   "source": [
    "def Std(X, P):\n",
    "    return math.sqrt(Var(X, P))"
   ]
  },
  {
   "cell_type": "code",
   "execution_count": 14,
   "metadata": {
    "collapsed": true
   },
   "outputs": [],
   "source": [
    "X = [-1, 1, 2, 3, 4, 5] # 빽도, 도, 개, 걸, 윷, 모\n",
    "P = [1/16, 3/16, 6/16, 4/16, 1/16, 1/16]"
   ]
  },
  {
   "cell_type": "code",
   "execution_count": 15,
   "metadata": {
    "collapsed": false
   },
   "outputs": [
    {
     "data": {
      "text/plain": [
       "1.3331705629813464"
      ]
     },
     "execution_count": 15,
     "metadata": {},
     "output_type": "execute_result"
    }
   ],
   "source": [
    "Std(X, P)"
   ]
  },
  {
   "cell_type": "markdown",
   "metadata": {},
   "source": [
    "* 윷놀이는 표준정규분포와 유사하게 만들어진 게임이다."
   ]
  },
  {
   "cell_type": "markdown",
   "metadata": {},
   "source": [
    "## 표준점수 구하기"
   ]
  },
  {
   "cell_type": "markdown",
   "metadata": {},
   "source": [
    "$$표준점수 = 20(또는 10) \\times (\\frac{수험생의\\, 원점수 - 수험생이\\, 속한\\, 집단의\\, 원점수\\, 평균}{수험생이\\, 속한\\, 집단의\\, 원점수\\, 표준편차}) + 100(또는 50)$$"
   ]
  },
  {
   "cell_type": "markdown",
   "metadata": {},
   "source": [
    "* 국,수,영은 20, 100 / 탐구는 10, 50"
   ]
  },
  {
   "cell_type": "code",
   "execution_count": 30,
   "metadata": {
    "collapsed": true
   },
   "outputs": [],
   "source": [
    "avr = [51.5, 50, 56.21, 22.63, 26.8]\n",
    "dev = [21.54, 23.74, 21.27, 9.45, 9.77]"
   ]
  },
  {
   "cell_type": "markdown",
   "metadata": {},
   "source": [
    "$$ Z = \\frac{X - m}{\\sigma} $$"
   ]
  },
  {
   "cell_type": "code",
   "execution_count": 31,
   "metadata": {
    "collapsed": true
   },
   "outputs": [],
   "source": [
    "# Z 구하기\n",
    "def Z(X, M, D):\n",
    "    z = []\n",
    "    for x, m, d in zip(X, M, D):\n",
    "        z.append((x - m)/d)\n",
    "    return z"
   ]
  },
  {
   "cell_type": "code",
   "execution_count": 32,
   "metadata": {
    "collapsed": true
   },
   "outputs": [],
   "source": [
    "# 점수 입력\n",
    "score = [63, 84, 40, 30, 27]"
   ]
  },
  {
   "cell_type": "code",
   "execution_count": 33,
   "metadata": {
    "collapsed": false
   },
   "outputs": [
    {
     "data": {
      "text/plain": [
       "[0.5338904363974002,\n",
       " 1.4321819713563606,\n",
       " -0.7621062529384109,\n",
       " 0.7798941798941801,\n",
       " 0.020470829068577206]"
      ]
     },
     "execution_count": 33,
     "metadata": {},
     "output_type": "execute_result"
    }
   ],
   "source": [
    "# Z점수 구하기\n",
    "Z(score, avr, dev)"
   ]
  },
  {
   "cell_type": "code",
   "execution_count": 34,
   "metadata": {
    "collapsed": false
   },
   "outputs": [],
   "source": [
    "# 표준점수 구하기\n",
    "def Norm(Z):\n",
    "    N = []\n",
    "    for i, sc in enumerate(Z): # enumerate는 순서와 값이 동시에 움직인다.\n",
    "        if i < 3 :\n",
    "            N.append(20 * sc + 100) # 국, 수, 영은 20 곱하고 100을 더한다.\n",
    "        else:\n",
    "            N.append(10 * sc + 50) # 탐구는 10 곱하고 50을 더한다.\n",
    "    return N"
   ]
  },
  {
   "cell_type": "code",
   "execution_count": 35,
   "metadata": {
    "collapsed": true
   },
   "outputs": [],
   "source": [
    "zz = Z(score, avr, dev)"
   ]
  },
  {
   "cell_type": "code",
   "execution_count": 36,
   "metadata": {
    "collapsed": false
   },
   "outputs": [
    {
     "data": {
      "text/plain": [
       "[110.677808727948,\n",
       " 128.6436394271272,\n",
       " 84.75787494123178,\n",
       " 57.7989417989418,\n",
       " 50.20470829068577]"
      ]
     },
     "execution_count": 36,
     "metadata": {},
     "output_type": "execute_result"
    }
   ],
   "source": [
    "Norm(zz)"
   ]
  },
  {
   "cell_type": "code",
   "execution_count": 37,
   "metadata": {
    "collapsed": false
   },
   "outputs": [
    {
     "data": {
      "text/plain": [
       "382.0829731859345"
      ]
     },
     "execution_count": 37,
     "metadata": {},
     "output_type": "execute_result"
    }
   ],
   "source": [
    "sum(Norm(zz)) - 50"
   ]
  }
 ],
 "metadata": {
  "kernelspec": {
   "display_name": "Python 3",
   "language": "python",
   "name": "python3"
  },
  "language_info": {
   "codemirror_mode": {
    "name": "ipython",
    "version": 3
   },
   "file_extension": ".py",
   "mimetype": "text/x-python",
   "name": "python",
   "nbconvert_exporter": "python",
   "pygments_lexer": "ipython3",
   "version": "3.6.0"
  }
 },
 "nbformat": 4,
 "nbformat_minor": 2
}
